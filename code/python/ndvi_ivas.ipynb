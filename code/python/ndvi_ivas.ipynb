{
 "cells": [
  {
   "cell_type": "markdown",
   "id": "82799825",
   "metadata": {},
   "source": [
    "# Import paths from environment variables"
   ]
  },
  {
   "cell_type": "code",
   "execution_count": 128,
   "id": "cff866d3",
   "metadata": {},
   "outputs": [
    {
     "data": {
      "text/html": [
       "\n",
       "            <style>\n",
       "                .geemap-dark {\n",
       "                    --jp-widgets-color: white;\n",
       "                    --jp-widgets-label-color: white;\n",
       "                    --jp-ui-font-color1: white;\n",
       "                    --jp-layout-color2: #454545;\n",
       "                    background-color: #383838;\n",
       "                }\n",
       "                    \n",
       "                .geemap-dark .jupyter-button {\n",
       "                    --jp-layout-color3: #383838;\n",
       "                }\n",
       "                \n",
       "                .geemap-colab {\n",
       "                    background-color: var(--colab-primary-surface-color, white);\n",
       "                }\n",
       "                    \n",
       "                .geemap-colab .jupyter-button {\n",
       "                    --jp-layout-color3: var(--colab-primary-surface-color, white);\n",
       "                }\n",
       "            </style>\n",
       "            "
      ],
      "text/plain": [
       "<IPython.core.display.HTML object>"
      ]
     },
     "metadata": {},
     "output_type": "display_data"
    },
    {
     "name": "stdout",
     "output_type": "stream",
     "text": [
      "Input path retrieved: /Users/vaiostriantafyllou/Desktop/chile_lithium/data/raw_data/ndvi/ivas\n",
      "Output path retrieved: /Users/vaiostriantafyllou/Desktop/chile_lithium/data/raw_data/ndvi/ivas/earth_engine_output\n",
      "Output path processed retrieved: /Users/vaiostriantafyllou/Desktop/chile_lithium/data/processed_data/ndvi/ivas\n",
      "Local coordinates file path: /Users/vaiostriantafyllou/Desktop/chile_lithium/data/raw_data/ndvi/ivas/local_cell_coordinates.xlsx\n",
      "Intermediate output file path: /Users/vaiostriantafyllou/Desktop/chile_lithium/data/raw_data/ndvi/ivas/earth_engine_output/local_ndvi_landsat_annual.csv\n"
     ]
    }
   ],
   "source": [
    "from dotenv import load_dotenv\n",
    "import os\n",
    "import geemap\n",
    "import ee\n",
    "\n",
    "# Load the environment variables from the .env file\n",
    "load_dotenv()\n",
    "\n",
    "# os.environ.clear()\n",
    "\n",
    "# Retrieve paths from environment variables file\n",
    "path_to_folder = os.getenv('PATH_TO_FOLDER')\n",
    "\n",
    "path_in = os.path.join(path_to_folder, os.getenv('NDVI_INPUT'))\n",
    "path_out = os.path.join(path_to_folder, os.getenv('NDVI_RAW_OUTPUT'))\n",
    "path_out_processed = os.path.join(path_to_folder, os.getenv('NDVI_PROCESSED_OUTPUT'))\n",
    "\n",
    "if path_in is None and path_out is None and path_out_processed is None:\n",
    "    print(\"Paths not found in .env file\")\n",
    "else:\n",
    "    print(\"Input path retrieved:\", path_in)\n",
    "    print(\"Output path retrieved:\", path_out)\n",
    "    print(\"Output path processed retrieved:\", path_out_processed)\n",
    "\n",
    "local_cell_coordinate_file = path_in + '/local_cell_coordinates.xlsx'\n",
    "print(\"Local coordinates file path:\", local_cell_coordinate_file)\n",
    "\n",
    "out_landsat_annual = path_out + '/local_ndvi_landsat_annual.csv'\n",
    "print(\"Intermediate output file path:\", out_landsat_annual)\n"
   ]
  },
  {
   "cell_type": "markdown",
   "metadata": {},
   "source": [
    "# Set-up Google Earth Engine"
   ]
  },
  {
   "cell_type": "code",
   "execution_count": 18,
   "id": "2c4734af",
   "metadata": {},
   "outputs": [
    {
     "data": {
      "text/html": [
       "\n",
       "            <style>\n",
       "                .geemap-dark {\n",
       "                    --jp-widgets-color: white;\n",
       "                    --jp-widgets-label-color: white;\n",
       "                    --jp-ui-font-color1: white;\n",
       "                    --jp-layout-color2: #454545;\n",
       "                    background-color: #383838;\n",
       "                }\n",
       "                    \n",
       "                .geemap-dark .jupyter-button {\n",
       "                    --jp-layout-color3: #383838;\n",
       "                }\n",
       "                \n",
       "                .geemap-colab {\n",
       "                    background-color: var(--colab-primary-surface-color, white);\n",
       "                }\n",
       "                    \n",
       "                .geemap-colab .jupyter-button {\n",
       "                    --jp-layout-color3: var(--colab-primary-surface-color, white);\n",
       "                }\n",
       "            </style>\n",
       "            "
      ],
      "text/plain": [
       "<IPython.core.display.HTML object>"
      ]
     },
     "metadata": {},
     "output_type": "display_data"
    },
    {
     "name": "stdout",
     "output_type": "stream",
     "text": [
      "Downloading https://github.com/gee-community/geemap/archive/master.zip ...\n",
      "Unzipping geemap-master.zip ...\n",
      "Data downloaded to: /Users/vaiostriantafyllou/Downloads/geemap-master\n",
      "Processing /Users/vaiostriantafyllou/Downloads/geemap-master\n",
      "  Preparing metadata (setup.py): started\n",
      "  Preparing metadata (setup.py): finished with status 'done'\n",
      "Requirement already satisfied: bqplot in /Users/vaiostriantafyllou/opt/anaconda3/envs/gee/lib/python3.8/site-packages (from geemap==0.29.6) (0.12.39)\n",
      "Requirement already satisfied: colour in /Users/vaiostriantafyllou/opt/anaconda3/envs/gee/lib/python3.8/site-packages (from geemap==0.29.6) (0.1.5)\n",
      "Requirement already satisfied: earthengine-api>=0.1.347 in /Users/vaiostriantafyllou/opt/anaconda3/envs/gee/lib/python3.8/site-packages (from geemap==0.29.6) (0.1.351)\n",
      "Requirement already satisfied: eerepr>=0.0.4 in /Users/vaiostriantafyllou/opt/anaconda3/envs/gee/lib/python3.8/site-packages (from geemap==0.29.6) (0.0.4)\n",
      "Requirement already satisfied: folium>=0.13.0 in /Users/vaiostriantafyllou/opt/anaconda3/envs/gee/lib/python3.8/site-packages (from geemap==0.29.6) (0.14.0)\n",
      "Requirement already satisfied: geocoder in /Users/vaiostriantafyllou/opt/anaconda3/envs/gee/lib/python3.8/site-packages (from geemap==0.29.6) (1.38.1)\n",
      "Requirement already satisfied: ipyevents in /Users/vaiostriantafyllou/opt/anaconda3/envs/gee/lib/python3.8/site-packages (from geemap==0.29.6) (2.0.1)\n",
      "Requirement already satisfied: ipyfilechooser>=0.6.0 in /Users/vaiostriantafyllou/opt/anaconda3/envs/gee/lib/python3.8/site-packages (from geemap==0.29.6) (0.6.0)\n",
      "Requirement already satisfied: ipyleaflet>=0.17.0 in /Users/vaiostriantafyllou/opt/anaconda3/envs/gee/lib/python3.8/site-packages (from geemap==0.29.6) (0.17.2)\n",
      "Requirement already satisfied: ipytree in /Users/vaiostriantafyllou/opt/anaconda3/envs/gee/lib/python3.8/site-packages (from geemap==0.29.6) (0.2.2)\n",
      "Requirement already satisfied: matplotlib in /Users/vaiostriantafyllou/opt/anaconda3/envs/gee/lib/python3.8/site-packages (from geemap==0.29.6) (3.7.1)\n",
      "Requirement already satisfied: numpy in /Users/vaiostriantafyllou/opt/anaconda3/envs/gee/lib/python3.8/site-packages (from geemap==0.29.6) (1.24.3)\n",
      "Requirement already satisfied: pandas in /Users/vaiostriantafyllou/opt/anaconda3/envs/gee/lib/python3.8/site-packages (from geemap==0.29.6) (2.0.1)\n",
      "Requirement already satisfied: plotly in /Users/vaiostriantafyllou/opt/anaconda3/envs/gee/lib/python3.8/site-packages (from geemap==0.29.6) (5.14.1)\n",
      "Requirement already satisfied: pyperclip in /Users/vaiostriantafyllou/opt/anaconda3/envs/gee/lib/python3.8/site-packages (from geemap==0.29.6) (1.8.2)\n",
      "Requirement already satisfied: pyshp>=2.1.3 in /Users/vaiostriantafyllou/opt/anaconda3/envs/gee/lib/python3.8/site-packages (from geemap==0.29.6) (2.3.1)\n",
      "Requirement already satisfied: python-box in /Users/vaiostriantafyllou/opt/anaconda3/envs/gee/lib/python3.8/site-packages (from geemap==0.29.6) (7.0.1)\n",
      "Requirement already satisfied: scooby in /Users/vaiostriantafyllou/opt/anaconda3/envs/gee/lib/python3.8/site-packages (from geemap==0.29.6) (0.7.1)\n",
      "Requirement already satisfied: google-auth-httplib2>=0.0.3 in /Users/vaiostriantafyllou/opt/anaconda3/envs/gee/lib/python3.8/site-packages (from earthengine-api>=0.1.347->geemap==0.29.6) (0.1.0)\n",
      "Requirement already satisfied: google-cloud-storage in /Users/vaiostriantafyllou/opt/anaconda3/envs/gee/lib/python3.8/site-packages (from earthengine-api>=0.1.347->geemap==0.29.6) (2.8.0)\n",
      "Requirement already satisfied: httplib2<1dev,>=0.9.2 in /Users/vaiostriantafyllou/opt/anaconda3/envs/gee/lib/python3.8/site-packages (from earthengine-api>=0.1.347->geemap==0.29.6) (0.22.0)\n",
      "Requirement already satisfied: google-auth>=1.4.1 in /Users/vaiostriantafyllou/opt/anaconda3/envs/gee/lib/python3.8/site-packages (from earthengine-api>=0.1.347->geemap==0.29.6) (2.17.3)\n",
      "Requirement already satisfied: requests in /Users/vaiostriantafyllou/opt/anaconda3/envs/gee/lib/python3.8/site-packages (from earthengine-api>=0.1.347->geemap==0.29.6) (2.29.0)\n",
      "Requirement already satisfied: google-api-python-client>=1.12.1 in /Users/vaiostriantafyllou/opt/anaconda3/envs/gee/lib/python3.8/site-packages (from earthengine-api>=0.1.347->geemap==0.29.6) (2.86.0)\n",
      "Requirement already satisfied: branca>=0.6.0 in /Users/vaiostriantafyllou/opt/anaconda3/envs/gee/lib/python3.8/site-packages (from folium>=0.13.0->geemap==0.29.6) (0.6.0)\n",
      "Requirement already satisfied: jinja2>=2.9 in /Users/vaiostriantafyllou/opt/anaconda3/envs/gee/lib/python3.8/site-packages (from folium>=0.13.0->geemap==0.29.6) (3.1.2)\n",
      "Requirement already satisfied: ipywidgets in /Users/vaiostriantafyllou/opt/anaconda3/envs/gee/lib/python3.8/site-packages (from ipyfilechooser>=0.6.0->geemap==0.29.6) (8.0.6)\n",
      "Requirement already satisfied: traittypes<3,>=0.2.1 in /Users/vaiostriantafyllou/opt/anaconda3/envs/gee/lib/python3.8/site-packages (from ipyleaflet>=0.17.0->geemap==0.29.6) (0.2.1)\n",
      "Requirement already satisfied: xyzservices>=2021.8.1 in /Users/vaiostriantafyllou/opt/anaconda3/envs/gee/lib/python3.8/site-packages (from ipyleaflet>=0.17.0->geemap==0.29.6) (2023.2.0)\n",
      "Requirement already satisfied: traitlets>=4.3.0 in /Users/vaiostriantafyllou/opt/anaconda3/envs/gee/lib/python3.8/site-packages (from bqplot->geemap==0.29.6) (5.7.1)\n",
      "Requirement already satisfied: pytz>=2020.1 in /Users/vaiostriantafyllou/opt/anaconda3/envs/gee/lib/python3.8/site-packages (from pandas->geemap==0.29.6) (2023.3)\n",
      "Requirement already satisfied: python-dateutil>=2.8.2 in /Users/vaiostriantafyllou/opt/anaconda3/envs/gee/lib/python3.8/site-packages (from pandas->geemap==0.29.6) (2.8.2)\n",
      "Requirement already satisfied: tzdata>=2022.1 in /Users/vaiostriantafyllou/opt/anaconda3/envs/gee/lib/python3.8/site-packages (from pandas->geemap==0.29.6) (2023.3)\n",
      "Requirement already satisfied: ratelim in /Users/vaiostriantafyllou/opt/anaconda3/envs/gee/lib/python3.8/site-packages (from geocoder->geemap==0.29.6) (0.1.6)\n",
      "Requirement already satisfied: click in /Users/vaiostriantafyllou/opt/anaconda3/envs/gee/lib/python3.8/site-packages (from geocoder->geemap==0.29.6) (8.1.3)\n",
      "Requirement already satisfied: future in /Users/vaiostriantafyllou/opt/anaconda3/envs/gee/lib/python3.8/site-packages (from geocoder->geemap==0.29.6) (0.18.3)\n",
      "Requirement already satisfied: six in /Users/vaiostriantafyllou/opt/anaconda3/envs/gee/lib/python3.8/site-packages (from geocoder->geemap==0.29.6) (1.16.0)\n",
      "Requirement already satisfied: pyparsing>=2.3.1 in /Users/vaiostriantafyllou/opt/anaconda3/envs/gee/lib/python3.8/site-packages (from matplotlib->geemap==0.29.6) (3.0.9)\n",
      "Requirement already satisfied: fonttools>=4.22.0 in /Users/vaiostriantafyllou/opt/anaconda3/envs/gee/lib/python3.8/site-packages (from matplotlib->geemap==0.29.6) (4.39.3)\n",
      "Requirement already satisfied: contourpy>=1.0.1 in /Users/vaiostriantafyllou/opt/anaconda3/envs/gee/lib/python3.8/site-packages (from matplotlib->geemap==0.29.6) (1.0.7)\n",
      "Requirement already satisfied: cycler>=0.10 in /Users/vaiostriantafyllou/opt/anaconda3/envs/gee/lib/python3.8/site-packages (from matplotlib->geemap==0.29.6) (0.11.0)\n",
      "Requirement already satisfied: importlib-resources>=3.2.0 in /Users/vaiostriantafyllou/opt/anaconda3/envs/gee/lib/python3.8/site-packages (from matplotlib->geemap==0.29.6) (5.2.0)\n",
      "Requirement already satisfied: packaging>=20.0 in /Users/vaiostriantafyllou/opt/anaconda3/envs/gee/lib/python3.8/site-packages (from matplotlib->geemap==0.29.6) (23.0)\n",
      "Requirement already satisfied: pillow>=6.2.0 in /Users/vaiostriantafyllou/opt/anaconda3/envs/gee/lib/python3.8/site-packages (from matplotlib->geemap==0.29.6) (9.5.0)\n",
      "Requirement already satisfied: kiwisolver>=1.0.1 in /Users/vaiostriantafyllou/opt/anaconda3/envs/gee/lib/python3.8/site-packages (from matplotlib->geemap==0.29.6) (1.4.4)\n",
      "Requirement already satisfied: tenacity>=6.2.0 in /Users/vaiostriantafyllou/opt/anaconda3/envs/gee/lib/python3.8/site-packages (from plotly->geemap==0.29.6) (8.2.2)\n",
      "Requirement already satisfied: uritemplate<5,>=3.0.1 in /Users/vaiostriantafyllou/opt/anaconda3/envs/gee/lib/python3.8/site-packages (from google-api-python-client>=1.12.1->earthengine-api>=0.1.347->geemap==0.29.6) (4.1.1)\n",
      "Requirement already satisfied: google-api-core!=2.0.*,!=2.1.*,!=2.2.*,!=2.3.0,<3.0.0dev,>=1.31.5 in /Users/vaiostriantafyllou/opt/anaconda3/envs/gee/lib/python3.8/site-packages (from google-api-python-client>=1.12.1->earthengine-api>=0.1.347->geemap==0.29.6) (2.11.0)\n",
      "Requirement already satisfied: rsa<5,>=3.1.4 in /Users/vaiostriantafyllou/opt/anaconda3/envs/gee/lib/python3.8/site-packages (from google-auth>=1.4.1->earthengine-api>=0.1.347->geemap==0.29.6) (4.9)\n",
      "Requirement already satisfied: pyasn1-modules>=0.2.1 in /Users/vaiostriantafyllou/opt/anaconda3/envs/gee/lib/python3.8/site-packages (from google-auth>=1.4.1->earthengine-api>=0.1.347->geemap==0.29.6) (0.3.0)\n",
      "Requirement already satisfied: cachetools<6.0,>=2.0.0 in /Users/vaiostriantafyllou/opt/anaconda3/envs/gee/lib/python3.8/site-packages (from google-auth>=1.4.1->earthengine-api>=0.1.347->geemap==0.29.6) (5.3.0)\n",
      "Requirement already satisfied: zipp>=3.1.0 in /Users/vaiostriantafyllou/opt/anaconda3/envs/gee/lib/python3.8/site-packages (from importlib-resources>=3.2.0->matplotlib->geemap==0.29.6) (3.11.0)\n",
      "Requirement already satisfied: ipykernel>=4.5.1 in /Users/vaiostriantafyllou/opt/anaconda3/envs/gee/lib/python3.8/site-packages (from ipywidgets->ipyfilechooser>=0.6.0->geemap==0.29.6) (6.19.2)\n",
      "Requirement already satisfied: ipython>=6.1.0 in /Users/vaiostriantafyllou/opt/anaconda3/envs/gee/lib/python3.8/site-packages (from ipywidgets->ipyfilechooser>=0.6.0->geemap==0.29.6) (8.12.0)\n",
      "Requirement already satisfied: widgetsnbextension~=4.0.7 in /Users/vaiostriantafyllou/opt/anaconda3/envs/gee/lib/python3.8/site-packages (from ipywidgets->ipyfilechooser>=0.6.0->geemap==0.29.6) (4.0.7)\n",
      "Requirement already satisfied: jupyterlab-widgets~=3.0.7 in /Users/vaiostriantafyllou/opt/anaconda3/envs/gee/lib/python3.8/site-packages (from ipywidgets->ipyfilechooser>=0.6.0->geemap==0.29.6) (3.0.7)\n",
      "Requirement already satisfied: MarkupSafe>=2.0 in /Users/vaiostriantafyllou/opt/anaconda3/envs/gee/lib/python3.8/site-packages (from jinja2>=2.9->folium>=0.13.0->geemap==0.29.6) (2.1.1)\n",
      "Requirement already satisfied: google-cloud-core<3.0dev,>=2.3.0 in /Users/vaiostriantafyllou/opt/anaconda3/envs/gee/lib/python3.8/site-packages (from google-cloud-storage->earthengine-api>=0.1.347->geemap==0.29.6) (2.3.2)\n",
      "Requirement already satisfied: google-resumable-media>=2.3.2 in /Users/vaiostriantafyllou/opt/anaconda3/envs/gee/lib/python3.8/site-packages (from google-cloud-storage->earthengine-api>=0.1.347->geemap==0.29.6) (2.5.0)\n",
      "Requirement already satisfied: urllib3<1.27,>=1.21.1 in /Users/vaiostriantafyllou/opt/anaconda3/envs/gee/lib/python3.8/site-packages (from requests->earthengine-api>=0.1.347->geemap==0.29.6) (1.26.15)\n",
      "Requirement already satisfied: charset-normalizer<4,>=2 in /Users/vaiostriantafyllou/opt/anaconda3/envs/gee/lib/python3.8/site-packages (from requests->earthengine-api>=0.1.347->geemap==0.29.6) (3.1.0)\n",
      "Requirement already satisfied: idna<4,>=2.5 in /Users/vaiostriantafyllou/opt/anaconda3/envs/gee/lib/python3.8/site-packages (from requests->earthengine-api>=0.1.347->geemap==0.29.6) (3.4)\n",
      "Requirement already satisfied: certifi>=2017.4.17 in /Users/vaiostriantafyllou/opt/anaconda3/envs/gee/lib/python3.8/site-packages (from requests->earthengine-api>=0.1.347->geemap==0.29.6) (2022.12.7)\n",
      "Requirement already satisfied: decorator in /Users/vaiostriantafyllou/opt/anaconda3/envs/gee/lib/python3.8/site-packages (from ratelim->geocoder->geemap==0.29.6) (5.1.1)\n",
      "Requirement already satisfied: protobuf!=3.20.0,!=3.20.1,!=4.21.0,!=4.21.1,!=4.21.2,!=4.21.3,!=4.21.4,!=4.21.5,<5.0.0dev,>=3.19.5 in /Users/vaiostriantafyllou/opt/anaconda3/envs/gee/lib/python3.8/site-packages (from google-api-core!=2.0.*,!=2.1.*,!=2.2.*,!=2.3.0,<3.0.0dev,>=1.31.5->google-api-python-client>=1.12.1->earthengine-api>=0.1.347->geemap==0.29.6) (4.22.3)\n",
      "Requirement already satisfied: googleapis-common-protos<2.0dev,>=1.56.2 in /Users/vaiostriantafyllou/opt/anaconda3/envs/gee/lib/python3.8/site-packages (from google-api-core!=2.0.*,!=2.1.*,!=2.2.*,!=2.3.0,<3.0.0dev,>=1.31.5->google-api-python-client>=1.12.1->earthengine-api>=0.1.347->geemap==0.29.6) (1.59.0)\n",
      "Requirement already satisfied: google-crc32c<2.0dev,>=1.0 in /Users/vaiostriantafyllou/opt/anaconda3/envs/gee/lib/python3.8/site-packages (from google-resumable-media>=2.3.2->google-cloud-storage->earthengine-api>=0.1.347->geemap==0.29.6) (1.5.0)\n",
      "Requirement already satisfied: pyzmq>=17 in /Users/vaiostriantafyllou/opt/anaconda3/envs/gee/lib/python3.8/site-packages (from ipykernel>=4.5.1->ipywidgets->ipyfilechooser>=0.6.0->geemap==0.29.6) (25.0.2)\n",
      "Requirement already satisfied: debugpy>=1.0 in /Users/vaiostriantafyllou/opt/anaconda3/envs/gee/lib/python3.8/site-packages (from ipykernel>=4.5.1->ipywidgets->ipyfilechooser>=0.6.0->geemap==0.29.6) (1.5.1)\n",
      "Requirement already satisfied: comm>=0.1.1 in /Users/vaiostriantafyllou/opt/anaconda3/envs/gee/lib/python3.8/site-packages (from ipykernel>=4.5.1->ipywidgets->ipyfilechooser>=0.6.0->geemap==0.29.6) (0.1.2)\n",
      "Requirement already satisfied: tornado>=6.1 in /Users/vaiostriantafyllou/opt/anaconda3/envs/gee/lib/python3.8/site-packages (from ipykernel>=4.5.1->ipywidgets->ipyfilechooser>=0.6.0->geemap==0.29.6) (6.2)\n",
      "Requirement already satisfied: appnope in /Users/vaiostriantafyllou/opt/anaconda3/envs/gee/lib/python3.8/site-packages (from ipykernel>=4.5.1->ipywidgets->ipyfilechooser>=0.6.0->geemap==0.29.6) (0.1.2)\n",
      "Requirement already satisfied: nest-asyncio in /Users/vaiostriantafyllou/opt/anaconda3/envs/gee/lib/python3.8/site-packages (from ipykernel>=4.5.1->ipywidgets->ipyfilechooser>=0.6.0->geemap==0.29.6) (1.5.6)\n",
      "Requirement already satisfied: psutil in /Users/vaiostriantafyllou/opt/anaconda3/envs/gee/lib/python3.8/site-packages (from ipykernel>=4.5.1->ipywidgets->ipyfilechooser>=0.6.0->geemap==0.29.6) (5.9.0)\n",
      "Requirement already satisfied: jupyter-client>=6.1.12 in /Users/vaiostriantafyllou/opt/anaconda3/envs/gee/lib/python3.8/site-packages (from ipykernel>=4.5.1->ipywidgets->ipyfilechooser>=0.6.0->geemap==0.29.6) (8.1.0)\n",
      "Requirement already satisfied: matplotlib-inline>=0.1 in /Users/vaiostriantafyllou/opt/anaconda3/envs/gee/lib/python3.8/site-packages (from ipykernel>=4.5.1->ipywidgets->ipyfilechooser>=0.6.0->geemap==0.29.6) (0.1.6)\n",
      "Requirement already satisfied: pickleshare in /Users/vaiostriantafyllou/opt/anaconda3/envs/gee/lib/python3.8/site-packages (from ipython>=6.1.0->ipywidgets->ipyfilechooser>=0.6.0->geemap==0.29.6) (0.7.5)\n",
      "Requirement already satisfied: prompt-toolkit!=3.0.37,<3.1.0,>=3.0.30 in /Users/vaiostriantafyllou/opt/anaconda3/envs/gee/lib/python3.8/site-packages (from ipython>=6.1.0->ipywidgets->ipyfilechooser>=0.6.0->geemap==0.29.6) (3.0.36)\n",
      "Requirement already satisfied: backcall in /Users/vaiostriantafyllou/opt/anaconda3/envs/gee/lib/python3.8/site-packages (from ipython>=6.1.0->ipywidgets->ipyfilechooser>=0.6.0->geemap==0.29.6) (0.2.0)\n",
      "Requirement already satisfied: pygments>=2.4.0 in /Users/vaiostriantafyllou/opt/anaconda3/envs/gee/lib/python3.8/site-packages (from ipython>=6.1.0->ipywidgets->ipyfilechooser>=0.6.0->geemap==0.29.6) (2.11.2)\n",
      "Requirement already satisfied: jedi>=0.16 in /Users/vaiostriantafyllou/opt/anaconda3/envs/gee/lib/python3.8/site-packages (from ipython>=6.1.0->ipywidgets->ipyfilechooser>=0.6.0->geemap==0.29.6) (0.18.1)\n",
      "Requirement already satisfied: typing-extensions in /Users/vaiostriantafyllou/opt/anaconda3/envs/gee/lib/python3.8/site-packages (from ipython>=6.1.0->ipywidgets->ipyfilechooser>=0.6.0->geemap==0.29.6) (4.8.0)\n",
      "Requirement already satisfied: stack-data in /Users/vaiostriantafyllou/opt/anaconda3/envs/gee/lib/python3.8/site-packages (from ipython>=6.1.0->ipywidgets->ipyfilechooser>=0.6.0->geemap==0.29.6) (0.2.0)\n",
      "Requirement already satisfied: pexpect>4.3 in /Users/vaiostriantafyllou/opt/anaconda3/envs/gee/lib/python3.8/site-packages (from ipython>=6.1.0->ipywidgets->ipyfilechooser>=0.6.0->geemap==0.29.6) (4.8.0)\n",
      "Requirement already satisfied: pyasn1<0.6.0,>=0.4.6 in /Users/vaiostriantafyllou/opt/anaconda3/envs/gee/lib/python3.8/site-packages (from pyasn1-modules>=0.2.1->google-auth>=1.4.1->earthengine-api>=0.1.347->geemap==0.29.6) (0.5.0)\n",
      "Requirement already satisfied: parso<0.9.0,>=0.8.0 in /Users/vaiostriantafyllou/opt/anaconda3/envs/gee/lib/python3.8/site-packages (from jedi>=0.16->ipython>=6.1.0->ipywidgets->ipyfilechooser>=0.6.0->geemap==0.29.6) (0.8.3)\n",
      "Requirement already satisfied: jupyter-core!=5.0.*,>=4.12 in /Users/vaiostriantafyllou/opt/anaconda3/envs/gee/lib/python3.8/site-packages (from jupyter-client>=6.1.12->ipykernel>=4.5.1->ipywidgets->ipyfilechooser>=0.6.0->geemap==0.29.6) (5.3.0)\n",
      "Requirement already satisfied: importlib-metadata>=4.8.3 in /Users/vaiostriantafyllou/opt/anaconda3/envs/gee/lib/python3.8/site-packages (from jupyter-client>=6.1.12->ipykernel>=4.5.1->ipywidgets->ipyfilechooser>=0.6.0->geemap==0.29.6) (6.0.0)\n",
      "Requirement already satisfied: ptyprocess>=0.5 in /Users/vaiostriantafyllou/opt/anaconda3/envs/gee/lib/python3.8/site-packages (from pexpect>4.3->ipython>=6.1.0->ipywidgets->ipyfilechooser>=0.6.0->geemap==0.29.6) (0.7.0)\n",
      "Requirement already satisfied: wcwidth in /Users/vaiostriantafyllou/opt/anaconda3/envs/gee/lib/python3.8/site-packages (from prompt-toolkit!=3.0.37,<3.1.0,>=3.0.30->ipython>=6.1.0->ipywidgets->ipyfilechooser>=0.6.0->geemap==0.29.6) (0.2.5)\n",
      "Requirement already satisfied: pure-eval in /Users/vaiostriantafyllou/opt/anaconda3/envs/gee/lib/python3.8/site-packages (from stack-data->ipython>=6.1.0->ipywidgets->ipyfilechooser>=0.6.0->geemap==0.29.6) (0.2.2)\n",
      "Requirement already satisfied: asttokens in /Users/vaiostriantafyllou/opt/anaconda3/envs/gee/lib/python3.8/site-packages (from stack-data->ipython>=6.1.0->ipywidgets->ipyfilechooser>=0.6.0->geemap==0.29.6) (2.0.5)\n",
      "Requirement already satisfied: executing in /Users/vaiostriantafyllou/opt/anaconda3/envs/gee/lib/python3.8/site-packages (from stack-data->ipython>=6.1.0->ipywidgets->ipyfilechooser>=0.6.0->geemap==0.29.6) (0.8.3)\n",
      "Requirement already satisfied: platformdirs>=2.5 in /Users/vaiostriantafyllou/opt/anaconda3/envs/gee/lib/python3.8/site-packages (from jupyter-core!=5.0.*,>=4.12->jupyter-client>=6.1.12->ipykernel>=4.5.1->ipywidgets->ipyfilechooser>=0.6.0->geemap==0.29.6) (2.5.2)\n",
      "Building wheels for collected packages: geemap\n",
      "  Building wheel for geemap (setup.py): started\n",
      "  Building wheel for geemap (setup.py): finished with status 'done'\n",
      "  Created wheel for geemap: filename=geemap-0.29.6-py2.py3-none-any.whl size=2191773 sha256=fb64a477fdf863d736d61a89ca5c7637efddc60cecc6f54bfb4f78e2f0dda369\n",
      "  Stored in directory: /Users/vaiostriantafyllou/Library/Caches/pip/wheels/97/00/e0/de67a6fb80288e0af3875f1cb330e7e835566c0ae5606b32df\n",
      "Successfully built geemap\n",
      "Installing collected packages: geemap\n",
      "  Attempting uninstall: geemap\n",
      "    Found existing installation: geemap 0.29.6\n",
      "    Uninstalling geemap-0.29.6:\n",
      "      Successfully uninstalled geemap-0.29.6\n",
      "Successfully installed geemap-0.29.6\n",
      "\n",
      "Please comment out 'geemap.update_package()' and restart the kernel to take effect:\n",
      "Jupyter menu -> Kernel -> Restart & Clear Output\n"
     ]
    }
   ],
   "source": [
    "geemap.update_package()\n",
    "ee.Initialize()"
   ]
  },
  {
   "cell_type": "markdown",
   "id": "ccb73c49",
   "metadata": {},
   "source": [
    "# Parameters"
   ]
  },
  {
   "cell_type": "code",
   "execution_count": 69,
   "id": "c12fa752",
   "metadata": {},
   "outputs": [
    {
     "data": {
      "text/html": [
       "\n",
       "            <style>\n",
       "                .geemap-dark {\n",
       "                    --jp-widgets-color: white;\n",
       "                    --jp-widgets-label-color: white;\n",
       "                    --jp-ui-font-color1: white;\n",
       "                    --jp-layout-color2: #454545;\n",
       "                    background-color: #383838;\n",
       "                }\n",
       "                    \n",
       "                .geemap-dark .jupyter-button {\n",
       "                    --jp-layout-color3: #383838;\n",
       "                }\n",
       "                \n",
       "                .geemap-colab {\n",
       "                    background-color: var(--colab-primary-surface-color, white);\n",
       "                }\n",
       "                    \n",
       "                .geemap-colab .jupyter-button {\n",
       "                    --jp-layout-color3: var(--colab-primary-surface-color, white);\n",
       "                }\n",
       "            </style>\n",
       "            "
      ],
      "text/plain": [
       "<IPython.core.display.HTML object>"
      ]
     },
     "metadata": {},
     "output_type": "display_data"
    }
   ],
   "source": [
    "# Location of Salar de Atacama\n",
    "longitude = -68.25180257565476\n",
    "latitude = -23.498660512303832\n",
    "\n",
    "# Origin coordinates - Salar de Atacama\n",
    "origin = str(latitude)+','+str(longitude)\n",
    "\n",
    "# Surrounding distance for data collection\n",
    "surrounding_distance = 200000\n",
    "\n",
    "# Date range for data collection\n",
    "start_date = '2013-01-01'\n",
    "end_date = '2021-01-01'\n",
    "\n",
    "# Degrees of smallest gridsize\n",
    "grid_deg = 0.00027\n",
    "grid_size = 30"
   ]
  },
  {
   "cell_type": "markdown",
   "id": "9516ebb3",
   "metadata": {},
   "source": [
    "# Functions"
   ]
  },
  {
   "cell_type": "code",
   "execution_count": 70,
   "id": "56bf0421",
   "metadata": {},
   "outputs": [
    {
     "data": {
      "text/html": [
       "\n",
       "            <style>\n",
       "                .geemap-dark {\n",
       "                    --jp-widgets-color: white;\n",
       "                    --jp-widgets-label-color: white;\n",
       "                    --jp-ui-font-color1: white;\n",
       "                    --jp-layout-color2: #454545;\n",
       "                    background-color: #383838;\n",
       "                }\n",
       "                    \n",
       "                .geemap-dark .jupyter-button {\n",
       "                    --jp-layout-color3: #383838;\n",
       "                }\n",
       "                \n",
       "                .geemap-colab {\n",
       "                    background-color: var(--colab-primary-surface-color, white);\n",
       "                }\n",
       "                    \n",
       "                .geemap-colab .jupyter-button {\n",
       "                    --jp-layout-color3: var(--colab-primary-surface-color, white);\n",
       "                }\n",
       "            </style>\n",
       "            "
      ],
      "text/plain": [
       "<IPython.core.display.HTML object>"
      ]
     },
     "metadata": {},
     "output_type": "display_data"
    }
   ],
   "source": [
    "# Function for calculating distance using coordinates\n",
    "\n",
    "def calc_distance(dataf):\n",
    "    measure_coords = dataf[\"coordinates\"]\n",
    "    origin_coords = dataf[\"origin\"]\n",
    "    d = distance.distance(measure_coords, origin_coords).km\n",
    "    return(d)"
   ]
  },
  {
   "cell_type": "markdown",
   "metadata": {},
   "source": [
    "# Extract data from Google Earth Engine"
   ]
  },
  {
   "cell_type": "code",
   "execution_count": 71,
   "id": "876159d4",
   "metadata": {},
   "outputs": [
    {
     "data": {
      "text/html": [
       "\n",
       "            <style>\n",
       "                .geemap-dark {\n",
       "                    --jp-widgets-color: white;\n",
       "                    --jp-widgets-label-color: white;\n",
       "                    --jp-ui-font-color1: white;\n",
       "                    --jp-layout-color2: #454545;\n",
       "                    background-color: #383838;\n",
       "                }\n",
       "                    \n",
       "                .geemap-dark .jupyter-button {\n",
       "                    --jp-layout-color3: #383838;\n",
       "                }\n",
       "                \n",
       "                .geemap-colab {\n",
       "                    background-color: var(--colab-primary-surface-color, white);\n",
       "                }\n",
       "                    \n",
       "                .geemap-colab .jupyter-button {\n",
       "                    --jp-layout-color3: var(--colab-primary-surface-color, white);\n",
       "                }\n",
       "            </style>\n",
       "            "
      ],
      "text/plain": [
       "<IPython.core.display.HTML object>"
      ]
     },
     "metadata": {},
     "output_type": "display_data"
    }
   ],
   "source": [
    "# data extraction\n",
    "selected_point = ee.Geometry.Point([longitude, latitude])\n",
    "buffer = selected_point.buffer(surrounding_distance)\n",
    "\n",
    "landsat_collection = ee.ImageCollection(\"LANDSAT/LC08/C01/T1_ANNUAL_NDVI\").filterDate(start_date, end_date)\\\n",
    "    .filterBounds(buffer)\n",
    "\n",
    "annual_imagery = landsat_collection.toBands()"
   ]
  },
  {
   "cell_type": "code",
   "execution_count": null,
   "id": "ad0ff281",
   "metadata": {
    "scrolled": true
   },
   "outputs": [],
   "source": [
    "# Define a function to process each row\n",
    "def process_row(row):\n",
    "    result = pd.DataFrame()  # Initialize an empty DataFrame to store results\n",
    "\n",
    "    j = 1\n",
    "    while f'lat{j+1}' in row.index and 'long1' and 'long2' in row.index:\n",
    "        lat1_col = f'lat{j}'\n",
    "        lat2_col = f'lat{j+1}'\n",
    "        long1_col = 'long1'\n",
    "        long2_col = 'long2'\n",
    "        \n",
    "        data = ee.Geometry.BBox(row[long1_col], row[lat1_col], row[long2_col], row[lat2_col])\n",
    "        grid_deg = 0.00027  # Set your desired grid size in degrees\n",
    "        grid_size = 30  # Set your desired pixel scale in meters\n",
    "\n",
    "        fishnet = geemap.fishnet(data, h_interval=grid_deg, v_interval=grid_deg, delta=1)\n",
    "        geemap.zonal_statistics(annual_imagery, fishnet, out_landsat_annual, statistics_type='MEAN', scale=grid_size)\n",
    "        aux = pd.read_csv(out_landsat_annual)\n",
    "        result = pd.concat([result, aux])\n",
    "\n",
    "        j += 1\n",
    "        time.sleep(2)\n",
    "\n",
    "    return result\n",
    "\n",
    "variations = ['a', 'b', 'c']  # Include an empty string for the default case\n",
    "\n",
    "for i in range(1, 5):\n",
    "    # Determine the file suffix\n",
    "    file_suffixes = [f'{i}{variation}' for variation in variations] if i in [1, 12] else [str(i)]\n",
    "\n",
    "    for suffix in file_suffixes:\n",
    "        local_output = os.path.join(path_out, f'local_{suffix}.csv')\n",
    "        cell_coordinates = pd.read_excel(local_cell_coordinate_file, sheet_name=suffix)\n",
    "\n",
    "        # Apply the process_row function to each row of the DataFrame\n",
    "        result_list = cell_coordinates.apply(process_row, axis=1)\n",
    "\n",
    "        # Concatenate the individual results into a single DataFrame\n",
    "        final_result = pd.concat(result_list.tolist(), ignore_index=True)\n",
    "\n",
    "        # Save the final result DataFrame to a CSV file\n",
    "        final_result.to_csv(local_output)\n",
    "\n",
    "        print(f\"Done with {suffix}\")\n",
    "        time.sleep(2)"
   ]
  },
  {
   "cell_type": "markdown",
   "id": "5a0be439",
   "metadata": {},
   "source": [
    "## Calculate distances from the center of the Salar"
   ]
  },
  {
   "cell_type": "code",
   "execution_count": 135,
   "id": "28ee9fe6",
   "metadata": {},
   "outputs": [
    {
     "data": {
      "text/html": [
       "\n",
       "            <style>\n",
       "                .geemap-dark {\n",
       "                    --jp-widgets-color: white;\n",
       "                    --jp-widgets-label-color: white;\n",
       "                    --jp-ui-font-color1: white;\n",
       "                    --jp-layout-color2: #454545;\n",
       "                    background-color: #383838;\n",
       "                }\n",
       "                    \n",
       "                .geemap-dark .jupyter-button {\n",
       "                    --jp-layout-color3: #383838;\n",
       "                }\n",
       "                \n",
       "                .geemap-colab {\n",
       "                    background-color: var(--colab-primary-surface-color, white);\n",
       "                }\n",
       "                    \n",
       "                .geemap-colab .jupyter-button {\n",
       "                    --jp-layout-color3: var(--colab-primary-surface-color, white);\n",
       "                }\n",
       "            </style>\n",
       "            "
      ],
      "text/plain": [
       "<IPython.core.display.HTML object>"
      ]
     },
     "metadata": {},
     "output_type": "display_data"
    }
   ],
   "source": [
    "# List of file names\n",
    "file_names = [\"local_1a\", \"local_1b\", \"local_1c\"] + [f\"local_{i}\" for i in range(2, 12)] + [\"local_12a\", \"local_12b\", \"local_12c\"] + [f\"local_{i}\" for i in range(13, 21)]\n",
    "\n",
    "def determine_group(file_name, idx):\n",
    "    parts = file_name.split('_')  # Adjust the split based on your file name format\n",
    "    for part in parts:\n",
    "        if part in [\"1a\", \"1b\", \"1c\"]:\n",
    "            return 1\n",
    "        elif part in [\"12a\", \"12b\", \"12c\"]:\n",
    "            return 12\n",
    "        elif part in [\"2\", \"3\", \"4\", \"5\", \"6\", \"7\", \"8\", \"9\", \"10\", \"11\"]:\n",
    "            return idx - 2\n",
    "        elif part in [\"13\", \"14\", \"15\", \"16\", \"17\", \"18\", \"19\", \"20\"]:\n",
    "            return idx - 4\n",
    "\n",
    "# Iterate over each file, process it, and save the processed version\n",
    "for idx, file_name in enumerate(file_names, start=1):\n",
    "    # Load each file\n",
    "    df = pd.read_csv(f\"{path_out}/{file_name}.csv\")\n",
    "\n",
    "    # Assign group - here, 'file_name' variable from the loop should be used directly\n",
    "    df[\"group\"] = determine_group(file_name, idx)\n",
    "\n",
    "    # Drop unnecessary columns\n",
    "    df = df.drop(columns=['Unnamed: 0', 'system:index'])\n",
    "\n",
    "    # Calculate longitude, latitude, and coordinates\n",
    "    df['longitude'] = (df['east'] + df['west']) / 2\n",
    "    df['latitude'] = (df['north'] + df['south']) / 2\n",
    "    df['coordinates'] = df['latitude'].astype(str) + ',' + df['longitude'].astype(str)\n",
    "\n",
    "    # Assign origin and calculate distance\n",
    "    df[\"origin\"] = origin\n",
    "    df['distance'] = df.apply(calc_distance, axis=1)\n",
    "\n",
    "    # Save the processed file\n",
    "    df.to_csv(f\"{path_out_processed}/{file_name}_with_distances.csv\", index=False)\n"
   ]
  },
  {
   "cell_type": "markdown",
   "metadata": {},
   "source": [
    "# Calculate distances from individual wells"
   ]
  },
  {
   "cell_type": "code",
   "execution_count": 136,
   "metadata": {},
   "outputs": [
    {
     "data": {
      "text/html": [
       "\n",
       "            <style>\n",
       "                .geemap-dark {\n",
       "                    --jp-widgets-color: white;\n",
       "                    --jp-widgets-label-color: white;\n",
       "                    --jp-ui-font-color1: white;\n",
       "                    --jp-layout-color2: #454545;\n",
       "                    background-color: #383838;\n",
       "                }\n",
       "                    \n",
       "                .geemap-dark .jupyter-button {\n",
       "                    --jp-layout-color3: #383838;\n",
       "                }\n",
       "                \n",
       "                .geemap-colab {\n",
       "                    background-color: var(--colab-primary-surface-color, white);\n",
       "                }\n",
       "                    \n",
       "                .geemap-colab .jupyter-button {\n",
       "                    --jp-layout-color3: var(--colab-primary-surface-color, white);\n",
       "                }\n",
       "            </style>\n",
       "            "
      ],
      "text/plain": [
       "<IPython.core.display.HTML object>"
      ]
     },
     "metadata": {},
     "output_type": "display_data"
    }
   ],
   "source": [
    "# Define well locations\n",
    "wells = {\n",
    "    \"ca2015\": (-23.539376, -68.058171),\n",
    "    \"socaire5\": (-23.451465, -68.039001),\n",
    "    \"allana1\": (-23.373125, -68.031744),\n",
    "    \"camar2\": (-23.418412, -68.040096),\n",
    "    \"mullay1\": (-23.302575, -68.022884)\n",
    "}\n",
    "\n",
    "def calc_distance_from_well(measure_coords, well_coords):\n",
    "    return distance.distance(measure_coords, well_coords).km\n",
    "\n",
    "# Process each file\n",
    "for file_name in file_names:\n",
    "    df = pd.read_csv(f\"{path_out_processed}/{file_name}_with_distances.csv\")\n",
    "\n",
    "    # Add distance calculations for each well\n",
    "    for well_name, well_coords in wells.items():\n",
    "        df[f'distance_{well_name}'] = df['coordinates'].apply(lambda x: calc_distance_from_well(x, well_coords))\n",
    "\n",
    "    # Save the updated file\n",
    "    df.to_csv(f\"{path_out_processed}/{file_name}_with_distances_individual.csv\", index=False)"
   ]
  },
  {
   "cell_type": "code",
   "execution_count": null,
   "metadata": {},
   "outputs": [],
   "source": []
  }
 ],
 "metadata": {
  "kernelspec": {
   "display_name": "Python 3 (ipykernel)",
   "language": "python",
   "name": "python3"
  },
  "language_info": {
   "codemirror_mode": {
    "name": "ipython",
    "version": 3
   },
   "file_extension": ".py",
   "mimetype": "text/x-python",
   "name": "python",
   "nbconvert_exporter": "python",
   "pygments_lexer": "ipython3",
   "version": "3.8.16"
  }
 },
 "nbformat": 4,
 "nbformat_minor": 5
}
